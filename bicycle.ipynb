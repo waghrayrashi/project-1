import pandas as pd
import numpy as np
import scipy.stats as st
import requests
import time

input_file_path = "Resources/bicycle.csv"
file_data = pd.read_csv(input_file_path, delimiter = ";")
file_data
